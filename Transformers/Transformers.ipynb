{
  "nbformat": 4,
  "nbformat_minor": 0,
  "metadata": {
    "colab": {
      "provenance": []
    },
    "kernelspec": {
      "name": "python3",
      "display_name": "Python 3"
    },
    "language_info": {
      "name": "python"
    }
  },
  "cells": [
    {
      "cell_type": "markdown",
      "source": [
        "# Using pytorch"
      ],
      "metadata": {
        "id": "jw3n28ZcrlNE"
      }
    },
    {
      "cell_type": "code",
      "source": [
        "import torch\n",
        "import torch.nn as nn\n",
        "\n",
        "sentence = \"What are the symptoms of diabetes?\"\n",
        "\n",
        "tokens = sentence.lower().split()\n",
        "vocab = {word: idx for idx, word in enumerate(set(tokens))}\n",
        "vocab_size = len(vocab)\n",
        "embed_dim = 8\n",
        "\n",
        "token_ids = torch.tensor([vocab[word] for word in tokens])\n",
        "\n",
        "embedding = nn.Embedding(vocab_size, embed_dim)\n",
        "embedded_tokens = embedding(token_ids)\n",
        "\n",
        "query_weight = nn.Linear(embed_dim, embed_dim)\n",
        "key_weight = nn.Linear(embed_dim, embed_dim)\n",
        "value_weight = nn.Linear(embed_dim, embed_dim)\n",
        "\n",
        "Q = query_weight(embedded_tokens)\n",
        "K = key_weight(embedded_tokens)\n",
        "V = value_weight(embedded_tokens)\n",
        "\n",
        "attention_scores = torch.matmul(Q, K.transpose(-2, -1)) / torch.sqrt(torch.tensor(embed_dim, dtype=torch.float32))\n",
        "attention_weights = torch.nn.functional.softmax(attention_scores, dim=-1)\n",
        "attention_output = torch.matmul(attention_weights, V)\n",
        "\n",
        "print(\"Tokens:\", tokens)\n",
        "print(\"Attention Scores:\\n\", attention_scores)\n",
        "print(\"Attention Weights (after Softmax):\\n\", attention_weights)\n",
        "print(\"Attention Output:\\n\", attention_output)\n"
      ],
      "metadata": {
        "colab": {
          "base_uri": "https://localhost:8080/"
        },
        "id": "JYKjKZx1rkzg",
        "outputId": "57f7d571-e4b2-4f3f-f167-ca29ad1bb50c"
      },
      "execution_count": 2,
      "outputs": [
        {
          "output_type": "stream",
          "name": "stdout",
          "text": [
            "Tokens: ['what', 'are', 'the', 'symptoms', 'of', 'diabetes?']\n",
            "Attention Scores:\n",
            " tensor([[-0.1466,  0.2270,  0.0423,  0.3350,  0.4152, -0.1968],\n",
            "        [-0.0032, -0.1107, -0.4408, -0.0396, -0.4479,  0.0352],\n",
            "        [-0.7412, -0.4808, -0.2818,  0.0701, -0.3640,  0.0267],\n",
            "        [-0.2614, -0.4615, -0.1122, -0.2139, -0.3583, -0.0429],\n",
            "        [-1.3057, -0.7060, -0.4546, -0.2096, -0.8794, -0.1695],\n",
            "        [ 0.2190,  0.3425,  0.1200,  0.2590,  0.3976,  0.0155]],\n",
            "       grad_fn=<DivBackward0>)\n",
            "Attention Weights (after Softmax):\n",
            " tensor([[0.1252, 0.1820, 0.1513, 0.2027, 0.2197, 0.1191],\n",
            "        [0.1927, 0.1731, 0.1244, 0.1859, 0.1236, 0.2003],\n",
            "        [0.1026, 0.1331, 0.1625, 0.2310, 0.1496, 0.2212],\n",
            "        [0.1618, 0.1325, 0.1878, 0.1697, 0.1469, 0.2013],\n",
            "        [0.0781, 0.1423, 0.1829, 0.2337, 0.1196, 0.2433],\n",
            "        [0.1642, 0.1858, 0.1487, 0.1709, 0.1963, 0.1340]],\n",
            "       grad_fn=<SoftmaxBackward0>)\n",
            "Attention Output:\n",
            " tensor([[ 0.0796,  0.2296,  0.0008, -0.0764,  0.5766, -0.0350, -0.0746,  0.2860],\n",
            "        [ 0.0907,  0.1210,  0.1907,  0.1023,  0.4848, -0.2264,  0.0106,  0.2638],\n",
            "        [ 0.0359,  0.1783,  0.0244, -0.0270,  0.4185, -0.1907, -0.1153,  0.2963],\n",
            "        [ 0.0527,  0.1529,  0.1177, -0.0124,  0.4778, -0.1660, -0.0912,  0.2852],\n",
            "        [ 0.0140,  0.1863,  0.0221, -0.0247,  0.3712, -0.2305, -0.1254,  0.2964],\n",
            "        [ 0.0908,  0.1946,  0.0855, -0.0208,  0.5778, -0.0771, -0.0371,  0.2745]],\n",
            "       grad_fn=<MmBackward0>)\n"
          ]
        }
      ]
    },
    {
      "cell_type": "markdown",
      "source": [
        "# Using numpt"
      ],
      "metadata": {
        "id": "5kWmpfhtri-h"
      }
    },
    {
      "cell_type": "code",
      "source": [
        "import numpy as np\n",
        "\n",
        "sentence = \"What are the symptoms of diabetes?\"\n",
        "\n",
        "tokens = sentence.lower().split()\n",
        "num_tokens = len(tokens)\n",
        "embed_dim = 8\n",
        "\n",
        "vocab = {word: idx for idx, word in enumerate(set(tokens))}\n",
        "\n",
        "np.random.seed(0)\n",
        "embeddings = {word: np.random.randn(embed_dim) for word in vocab}\n",
        "\n",
        "embedded_tokens = np.array([embeddings[word] for word in tokens])\n",
        "\n",
        "W_q = np.random.randn(embed_dim, embed_dim)\n",
        "W_k = np.random.randn(embed_dim, embed_dim)\n",
        "W_v = np.random.randn(embed_dim, embed_dim)\n",
        "\n",
        "Q = np.dot(embedded_tokens, W_q)\n",
        "K = np.dot(embedded_tokens, W_k)\n",
        "V = np.dot(embedded_tokens, W_v)\n",
        "\n",
        "attention_scores = np.dot(Q, K.T)\n",
        "\n",
        "scale_factor = np.sqrt(embed_dim)\n",
        "attention_scores /= scale_factor\n",
        "\n",
        "def softmax(x):\n",
        "    exp_x = np.exp(x - np.max(x))\n",
        "    return exp_x / exp_x.sum(axis=1, keepdims=True)\n",
        "\n",
        "attention_weights = softmax(attention_scores)\n",
        "\n",
        "attention_output = np.dot(attention_weights, V)\n",
        "\n",
        "print(\"Tokens:\", tokens)\n",
        "print(\"Attention Scores:\\n\", attention_scores)\n",
        "print(\"Attention Weights (after Softmax):\\n\", attention_weights)\n",
        "print(\"Attention Output:\\n\", attention_output)\n"
      ],
      "metadata": {
        "colab": {
          "base_uri": "https://localhost:8080/"
        },
        "id": "Jok82KJmrhuA",
        "outputId": "defd101d-823b-499b-8189-5f7b25891dfb"
      },
      "execution_count": 3,
      "outputs": [
        {
          "output_type": "stream",
          "name": "stdout",
          "text": [
            "Tokens: ['what', 'are', 'the', 'symptoms', 'of', 'diabetes?']\n",
            "Attention Scores:\n",
            " [[ -7.63479725  -1.95047375   3.30412288   2.47112603  -1.73103351\n",
            "    5.88963206]\n",
            " [  2.29426192  -0.54716144   4.87188321  -2.22295171   0.81228273\n",
            "    2.0491618 ]\n",
            " [  0.39667638   5.43517076  16.3123148   -1.78123963 -14.6585921\n",
            "  -13.18883214]\n",
            " [  6.21009767  -1.7565809    9.02426645 -10.49680223  -1.60171342\n",
            "    3.14603431]\n",
            " [-10.75043823  -9.8497515   -8.078799    -0.09564052  11.09850863\n",
            "   24.86293917]\n",
            " [ -4.12186374   6.202978   -22.40118343  13.42445284   7.17639521\n",
            "  -18.73209584]]\n",
            "Attention Weights (after Softmax):\n",
            " [[1.20637348e-06 3.54937684e-04 6.79507778e-02 2.95412247e-02\n",
            "  4.42032087e-04 9.01709821e-01]\n",
            " [6.55958834e-02 3.82703207e-03 8.63621190e-01 7.16268139e-04\n",
            "  1.49025710e-02 5.13370556e-02]\n",
            " [1.22438442e-07 1.88846136e-05 9.99980979e-01 1.38695027e-08\n",
            "  3.54403311e-14 1.54101339e-13]\n",
            " [5.64119028e-02 1.95652864e-05 9.40911388e-01 3.13080713e-09\n",
            "  2.28425351e-05 2.63429823e-03]\n",
            " [3.41433598e-16 8.40368052e-16 4.93837915e-15 1.44752512e-11\n",
            "  1.05240599e-06 9.99998948e-01]\n",
            " [2.39097862e-08 7.28781753e-04 2.75402591e-16 9.97342128e-01\n",
            "  1.92906655e-03 1.08002178e-14]]\n",
            "Attention Output:\n",
            " [[-2.45755577 -0.3622719  -0.87717305 -1.46140206 -4.14577279  0.83230564\n",
            "   0.54423454 -1.93025055]\n",
            " [ 0.43301704  4.28385636  1.11012575  1.35338729  2.67428308 -5.59360555\n",
            "   1.42534713 -0.65841781]\n",
            " [ 0.67441079  4.65212844  0.74964324  1.65191091  3.28149292 -6.23081866\n",
            "   1.57206845 -0.62569796]\n",
            " [ 0.65653274  4.62051345  1.08097733  1.55276392  3.14281669 -6.00812816\n",
            "   1.54152683 -0.54163967]\n",
            " [-2.68040796 -0.61849835 -1.08299875 -1.81449504 -4.94007916  1.56321599\n",
            "   0.5624199  -1.89522136]\n",
            " [-2.87333075 -4.08111955  1.55273159  2.08497206  2.87279952 -5.07323965\n",
            "  -2.31635073 -5.96287221]]\n"
          ]
        }
      ]
    },
    {
      "cell_type": "code",
      "source": [],
      "metadata": {
        "id": "_Cj81m5yrRNA"
      },
      "execution_count": null,
      "outputs": []
    }
  ]
}