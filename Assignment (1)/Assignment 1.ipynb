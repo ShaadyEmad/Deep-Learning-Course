{
 "cells": [
  {
   "cell_type": "code",
   "execution_count": 1,
   "metadata": {
    "execution": {
     "iopub.execute_input": "2025-02-23T04:09:41.364809Z",
     "iopub.status.busy": "2025-02-23T04:09:41.364530Z",
     "iopub.status.idle": "2025-02-23T04:09:49.690115Z",
     "shell.execute_reply": "2025-02-23T04:09:49.689452Z",
     "shell.execute_reply.started": "2025-02-23T04:09:41.364785Z"
    },
    "trusted": true
   },
   "outputs": [],
   "source": [
    "import torch\n",
    "import torch.nn as nn\n",
    "import torch.optim as optim\n",
    "from torchvision import datasets, models, transforms\n",
    "from torch.utils.data import DataLoader\n",
    "from torch.utils.data.dataset import Dataset\n",
    "from PIL import Image\n",
    "import os"
   ]
  },
  {
   "cell_type": "code",
   "execution_count": null,
   "metadata": {
    "execution": {
     "iopub.execute_input": "2025-02-23T04:09:54.447974Z",
     "iopub.status.busy": "2025-02-23T04:09:54.447533Z",
     "iopub.status.idle": "2025-02-23T04:09:54.451767Z",
     "shell.execute_reply": "2025-02-23T04:09:54.450777Z",
     "shell.execute_reply.started": "2025-02-23T04:09:54.447945Z"
    },
    "trusted": true
   },
   "outputs": [],
   "source": [
    "num_classes = 58\n",
    "batch_size = 32\n",
    "epochs = 10\n",
    "learning_rate = 0.001"
   ]
  },
  {
   "cell_type": "code",
   "execution_count": 3,
   "metadata": {
    "execution": {
     "iopub.execute_input": "2025-02-23T04:09:55.293248Z",
     "iopub.status.busy": "2025-02-23T04:09:55.292938Z",
     "iopub.status.idle": "2025-02-23T04:09:55.391786Z",
     "shell.execute_reply": "2025-02-23T04:09:55.390836Z",
     "shell.execute_reply.started": "2025-02-23T04:09:55.293225Z"
    },
    "trusted": true
   },
   "outputs": [],
   "source": [
    "device = torch.device(\"cuda\" if torch.cuda.is_available() else \"cpu\")"
   ]
  },
  {
   "cell_type": "code",
   "execution_count": 4,
   "metadata": {
    "execution": {
     "iopub.execute_input": "2025-02-23T04:09:56.238909Z",
     "iopub.status.busy": "2025-02-23T04:09:56.238587Z",
     "iopub.status.idle": "2025-02-23T04:09:56.244437Z",
     "shell.execute_reply": "2025-02-23T04:09:56.243409Z",
     "shell.execute_reply.started": "2025-02-23T04:09:56.238857Z"
    },
    "trusted": true
   },
   "outputs": [],
   "source": [
    "data_transforms = {\n",
    "    'train': transforms.Compose([\n",
    "        transforms.RandomResizedCrop(224),\n",
    "        transforms.RandomHorizontalFlip(),\n",
    "        transforms.ToTensor(),\n",
    "        transforms.Normalize([0.485, 0.456, 0.406], [0.229, 0.224, 0.225])\n",
    "    ]),\n",
    "    'val': transforms.Compose([\n",
    "        transforms.Resize(256),\n",
    "        transforms.CenterCrop(224),\n",
    "        transforms.ToTensor(),\n",
    "        transforms.Normalize([0.485, 0.456, 0.406], [0.229, 0.224, 0.225])\n",
    "    ]),\n",
    "}"
   ]
  },
  {
   "cell_type": "code",
   "execution_count": null,
   "metadata": {
    "execution": {
     "iopub.execute_input": "2025-02-23T04:10:05.223757Z",
     "iopub.status.busy": "2025-02-23T04:10:05.223454Z",
     "iopub.status.idle": "2025-02-23T04:10:10.949565Z",
     "shell.execute_reply": "2025-02-23T04:10:10.948933Z",
     "shell.execute_reply.started": "2025-02-23T04:10:05.223737Z"
    },
    "trusted": true
   },
   "outputs": [],
   "source": [
    "class TestDataset(Dataset):\n",
    "    def __init__(self, root_dir, transform=None):\n",
    "        self.root_dir = root_dir\n",
    "        self.transform = transform\n",
    "        self.image_paths = [os.path.join(root_dir, fname) for fname in os.listdir(root_dir) if fname.endswith('.png')]\n",
    "\n",
    "    def __len__(self):\n",
    "        return len(self.image_paths)\n",
    "\n",
    "    def __getitem__(self, idx):\n",
    "        img_path = self.image_paths[idx]\n",
    "        image = Image.open(img_path).convert(\"RGB\")\n",
    "\n",
    "        if self.transform:\n",
    "            image = self.transform(image)\n",
    "\n",
    "        return image, img_path\n",
    "\n",
    "\n",
    "data_dir = '/kaggle/input/traffic-sign-dataset-classification/traffic_Data'\n",
    "image_datasets = {\n",
    "    'train': datasets.ImageFolder(\n",
    "        root=f\"{data_dir}/DATA\",\n",
    "        transform=data_transforms['train']\n",
    "    ),\n",
    "    'val': TestDataset(\n",
    "        root_dir=f\"{data_dir}/TEST\",\n",
    "        transform=data_transforms['val']\n",
    "    )\n",
    "}"
   ]
  },
  {
   "cell_type": "code",
   "execution_count": null,
   "metadata": {
    "execution": {
     "iopub.execute_input": "2025-02-23T04:10:14.414857Z",
     "iopub.status.busy": "2025-02-23T04:10:14.414550Z",
     "iopub.status.idle": "2025-02-23T04:10:14.419652Z",
     "shell.execute_reply": "2025-02-23T04:10:14.418658Z",
     "shell.execute_reply.started": "2025-02-23T04:10:14.414830Z"
    },
    "trusted": true
   },
   "outputs": [
    {
     "name": "stdout",
     "output_type": "stream",
     "text": [
      "Class to Index Mapping: {'0': 0, '1': 1, '10': 2, '11': 3, '12': 4, '13': 5, '14': 6, '15': 7, '16': 8, '17': 9, '18': 10, '19': 11, '2': 12, '20': 13, '21': 14, '22': 15, '23': 16, '24': 17, '25': 18, '26': 19, '27': 20, '28': 21, '29': 22, '3': 23, '30': 24, '31': 25, '32': 26, '33': 27, '34': 28, '35': 29, '36': 30, '37': 31, '38': 32, '39': 33, '4': 34, '40': 35, '41': 36, '42': 37, '43': 38, '44': 39, '45': 40, '46': 41, '47': 42, '48': 43, '49': 44, '5': 45, '50': 46, '51': 47, '52': 48, '53': 49, '54': 50, '55': 51, '56': 52, '57': 53, '6': 54, '7': 55, '8': 56, '9': 57}\n"
     ]
    }
   ],
   "source": [
    "print(\"Class to Index Mapping:\", image_datasets['train'].class_to_idx)"
   ]
  },
  {
   "cell_type": "code",
   "execution_count": 7,
   "metadata": {
    "execution": {
     "iopub.execute_input": "2025-02-23T04:10:27.368117Z",
     "iopub.status.busy": "2025-02-23T04:10:27.367829Z",
     "iopub.status.idle": "2025-02-23T04:10:27.372575Z",
     "shell.execute_reply": "2025-02-23T04:10:27.371646Z",
     "shell.execute_reply.started": "2025-02-23T04:10:27.368097Z"
    },
    "trusted": true
   },
   "outputs": [],
   "source": [
    "dataloaders = {x: DataLoader(\n",
    "    image_datasets[x], batch_size=batch_size, shuffle=(x == 'train'), num_workers=4\n",
    ") for x in ['train', 'val']}\n",
    "\n",
    "if 'train' in image_datasets:\n",
    "    dataset_sizes = {'train': len(image_datasets['train'])}\n",
    "else:\n",
    "    dataset_sizes = {}"
   ]
  },
  {
   "cell_type": "code",
   "execution_count": null,
   "metadata": {
    "execution": {
     "iopub.execute_input": "2025-02-23T04:10:28.921295Z",
     "iopub.status.busy": "2025-02-23T04:10:28.920996Z",
     "iopub.status.idle": "2025-02-23T04:10:30.224305Z",
     "shell.execute_reply": "2025-02-23T04:10:30.223594Z",
     "shell.execute_reply.started": "2025-02-23T04:10:28.921271Z"
    },
    "trusted": true
   },
   "outputs": [
    {
     "name": "stderr",
     "output_type": "stream",
     "text": [
      "/usr/local/lib/python3.10/dist-packages/torchvision/models/_utils.py:208: UserWarning: The parameter 'pretrained' is deprecated since 0.13 and may be removed in the future, please use 'weights' instead.\n",
      "  warnings.warn(\n",
      "/usr/local/lib/python3.10/dist-packages/torchvision/models/_utils.py:223: UserWarning: Arguments other than a weight enum or `None` for 'weights' are deprecated since 0.13 and may be removed in the future. The current behavior is equivalent to passing `weights=ResNet50_Weights.IMAGENET1K_V1`. You can also use `weights=ResNet50_Weights.DEFAULT` to get the most up-to-date weights.\n",
      "  warnings.warn(msg)\n",
      "Downloading: \"https://download.pytorch.org/models/resnet50-0676ba61.pth\" to /root/.cache/torch/hub/checkpoints/resnet50-0676ba61.pth\n",
      "100%|██████████| 97.8M/97.8M [00:00<00:00, 185MB/s] \n"
     ]
    }
   ],
   "source": [
    "model = models.resnet50(pretrained=True)"
   ]
  },
  {
   "cell_type": "code",
   "execution_count": null,
   "metadata": {
    "execution": {
     "iopub.execute_input": "2025-02-23T04:10:32.228243Z",
     "iopub.status.busy": "2025-02-23T04:10:32.227843Z",
     "iopub.status.idle": "2025-02-23T04:10:32.518822Z",
     "shell.execute_reply": "2025-02-23T04:10:32.518177Z",
     "shell.execute_reply.started": "2025-02-23T04:10:32.228210Z"
    },
    "trusted": true
   },
   "outputs": [],
   "source": [
    "for param in model.parameters():\n",
    "    param.requires_grad = False\n",
    "\n",
    "num_ftrs = model.fc.in_features\n",
    "model.fc = nn.Linear(num_ftrs, num_classes)\n",
    "model = model.to(device)\n"
   ]
  },
  {
   "cell_type": "code",
   "execution_count": null,
   "metadata": {
    "execution": {
     "iopub.execute_input": "2025-02-23T04:10:35.345970Z",
     "iopub.status.busy": "2025-02-23T04:10:35.345671Z",
     "iopub.status.idle": "2025-02-23T04:13:11.017934Z",
     "shell.execute_reply": "2025-02-23T04:13:11.016837Z",
     "shell.execute_reply.started": "2025-02-23T04:10:35.345948Z"
    },
    "trusted": true
   },
   "outputs": [
    {
     "name": "stdout",
     "output_type": "stream",
     "text": [
      "Epoch 1/10\n",
      "----------\n",
      "train Loss: 1.9333 Acc: 0.5513\n",
      "Epoch 2/10\n",
      "----------\n",
      "train Loss: 0.8939 Acc: 0.7801\n",
      "Epoch 3/10\n",
      "----------\n",
      "train Loss: 0.6422 Acc: 0.8319\n",
      "Epoch 4/10\n",
      "----------\n",
      "train Loss: 0.5573 Acc: 0.8504\n",
      "Epoch 5/10\n",
      "----------\n",
      "train Loss: 0.4874 Acc: 0.8691\n",
      "Epoch 6/10\n",
      "----------\n",
      "train Loss: 0.4273 Acc: 0.8801\n",
      "Epoch 7/10\n",
      "----------\n",
      "train Loss: 0.4008 Acc: 0.8856\n",
      "Epoch 8/10\n",
      "----------\n",
      "train Loss: 0.3826 Acc: 0.8918\n",
      "Epoch 9/10\n",
      "----------\n",
      "train Loss: 0.3380 Acc: 0.9048\n",
      "Epoch 10/10\n",
      "----------\n",
      "train Loss: 0.3258 Acc: 0.9089\n",
      "Training complete.\n"
     ]
    }
   ],
   "source": [
    "criterion = nn.CrossEntropyLoss()\n",
    "optimizer = optim.Adam(model.fc.parameters(), lr=learning_rate)\n",
    "\n",
    "\n",
    "for epoch in range(epochs):\n",
    "    print(f\"Epoch {epoch+1}/{epochs}\")\n",
    "    print(\"-\" * 10)\n",
    "\n",
    "    for phase in ['train']:\n",
    "        model.train()\n",
    "        running_loss = 0.0\n",
    "        running_corrects = 0\n",
    "\n",
    "        for inputs, labels in dataloaders[phase]:\n",
    "            inputs, labels = inputs.to(device), labels.to(device)\n",
    "            optimizer.zero_grad()\n",
    "\n",
    "            outputs = model(inputs)\n",
    "            _, preds = torch.max(outputs, 1)\n",
    "\n",
    "            if labels.max() >= num_classes:\n",
    "                print(f\"Invalid label detected: {labels.max().item()} (max allowed: {num_classes - 1})\")\n",
    "                continue\n",
    "\n",
    "            loss = criterion(outputs, labels)\n",
    "            loss.backward()\n",
    "            optimizer.step()\n",
    "\n",
    "            running_loss += loss.item() * inputs.size(0)\n",
    "            running_corrects += torch.sum(preds == labels.data)\n",
    "\n",
    "        epoch_loss = running_loss / dataset_sizes[phase]\n",
    "        epoch_acc = running_corrects.double() / dataset_sizes[phase]\n",
    "\n",
    "        print(f\"{phase} Loss: {epoch_loss:.4f} Acc: {epoch_acc:.4f}\")\n",
    "\n",
    "print(\"Training complete.\")\n"
   ]
  },
  {
   "cell_type": "code",
   "execution_count": null,
   "metadata": {
    "trusted": true
   },
   "outputs": [],
   "source": []
  },
  {
   "cell_type": "code",
   "execution_count": null,
   "metadata": {
    "trusted": true
   },
   "outputs": [],
   "source": []
  },
  {
   "cell_type": "code",
   "execution_count": null,
   "metadata": {
    "trusted": true
   },
   "outputs": [],
   "source": []
  }
 ],
 "metadata": {
  "kaggle": {
   "accelerator": "nvidiaTeslaT4",
   "dataSources": [
    {
     "datasetId": 1794080,
     "sourceId": 2952603,
     "sourceType": "datasetVersion"
    }
   ],
   "dockerImageVersionId": 30919,
   "isGpuEnabled": true,
   "isInternetEnabled": true,
   "language": "python",
   "sourceType": "notebook"
  },
  "kernelspec": {
   "display_name": "Python 3",
   "language": "python",
   "name": "python3"
  },
  "language_info": {
   "codemirror_mode": {
    "name": "ipython",
    "version": 3
   },
   "file_extension": ".py",
   "mimetype": "text/x-python",
   "name": "python",
   "nbconvert_exporter": "python",
   "pygments_lexer": "ipython3",
   "version": "3.10.12"
  }
 },
 "nbformat": 4,
 "nbformat_minor": 4
}
